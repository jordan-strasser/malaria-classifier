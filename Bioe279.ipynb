{
  "nbformat": 4,
  "nbformat_minor": 0,
  "metadata": {
    "colab": {
      "name": "Bioe279.ipynb",
      "provenance": [],
      "collapsed_sections": [],
      "include_colab_link": true
    },
    "kernelspec": {
      "name": "python3",
      "display_name": "Python 3"
    },
    "language_info": {
      "name": "python"
    }
  },
  "cells": [
    {
      "cell_type": "markdown",
      "metadata": {
        "id": "view-in-github",
        "colab_type": "text"
      },
      "source": [
        "<a href=\"https://colab.research.google.com/github/jordan-strasser/malaria-classifier/blob/main/Bioe279.ipynb\" target=\"_parent\"><img src=\"https://colab.research.google.com/assets/colab-badge.svg\" alt=\"Open In Colab\"/></a>"
      ]
    },
    {
      "cell_type": "markdown",
      "metadata": {
        "id": "-zRtefsZw87R"
      },
      "source": [
        "Benjamin Smith & Jordan Strasser\n",
        "\n",
        "---\n",
        "BioE 279 - Final Project\n",
        "\n",
        "\n",
        "---\n",
        "Malaria Detection in RBCs with Machine Learning \n",
        "\n"
      ]
    },
    {
      "cell_type": "markdown",
      "metadata": {
        "id": "fYthB3LRAJ2w"
      },
      "source": [
        "First we import the necessary packages to implement the program. Some of these packages aren't used in the final code but were used in the process of visualizing the data. We mount google drive to the program in order to access the images that we are traing and validating the program with."
      ]
    },
    {
      "cell_type": "code",
      "metadata": {
        "id": "xaLkVkeyw556",
        "colab": {
          "base_uri": "https://localhost:8080/"
        },
        "outputId": "b2622edf-d3fa-4f51-cc1f-b3cfbca340b7"
      },
      "source": [
        "import numpy as np\n",
        "import os\n",
        "import pathlib\n",
        "import scipy.io\n",
        "from PIL import Image\n",
        "import glob\n",
        "from scipy import ndimage\n",
        "import matplotlib.pyplot as plt\n",
        "from google.colab import files\n",
        "import tensorflow as tf\n",
        "import pathlib\n",
        "\n",
        "from tensorflow import keras\n",
        "from tensorflow.keras import layers\n",
        "from tensorflow.keras.models import Sequential\n",
        "\n",
        "from google.colab import drive\n",
        "drive.mount('/content/drive')"
      ],
      "execution_count": null,
      "outputs": [
        {
          "output_type": "stream",
          "name": "stdout",
          "text": [
            "Drive already mounted at /content/drive; to attempt to forcibly remount, call drive.mount(\"/content/drive\", force_remount=True).\n"
          ]
        }
      ]
    },
    {
      "cell_type": "markdown",
      "metadata": {
        "id": "TxV6hohWApK7"
      },
      "source": [
        "We need to establish what the minimum width and height of the images is in order to standardize the input vector. "
      ]
    },
    {
      "cell_type": "code",
      "metadata": {
        "colab": {
          "base_uri": "https://localhost:8080/",
          "height": 375
        },
        "id": "-mgu4_yWmkOi",
        "outputId": "9260daa3-b800-4887-a484-c14703e1d714"
      },
      "source": [
        "# creates a list of all the photos which can be opened. Used our directory location\n",
        "# please change accordingly\n",
        "para_path = \"/content/drive/MyDrive/Bioe279 - Final Project/cell_images/Parasitized/*.png\"\n",
        "para_imgs = list(glob.glob(para_path))\n",
        "\n",
        "uninf_path = \"/content/drive/MyDrive/Bioe279 - Final Project/cell_images/Uninfected/*.png\"\n",
        "uninf_imgs = list(glob.glob(uninf_path))\n",
        "\n",
        "# establish a large starting point var so that we cann save the lowest one\n",
        "wid_min = 1000\n",
        "hgt_min = 1000\n",
        "\n",
        "# loop through all the file names of the images, then open each one. Then if the current\n",
        "# width or height dimension is lower than the svaed global minimum, save the new global\n",
        "# minimum\n",
        "for s in para_imgs:\n",
        "  img = Image.open(s)\n",
        "  wid = img.size[0]\n",
        "  hgt = img.size[1]\n",
        "  if wid < wid_min:\n",
        "    wid_min = wid\n",
        "  if hgt < hgt_min:\n",
        "    hgt_min = hgt\n",
        "\n",
        "print(wid_min)\n",
        "print(hgt_min)\n",
        "\n",
        "# Same as above but with the non-parasitized images\n",
        "wid_min_u = 1000\n",
        "hgt_min_u = 1000\n",
        "for st in uninf_imgs:\n",
        "  img = Image.open(st)\n",
        "  wid = img.size[0]\n",
        "  hgt = img.size[1]\n",
        "  if wid < wid_min_u:\n",
        "    wid_min_u = wid\n",
        "  if hgt < hgt_min_u:\n",
        "    hgt_min_u = hgt\n",
        "\n",
        "print(wid_min_u)\n",
        "print(hgt_min_u)\n",
        "\n",
        "# via function minimum width is 49 pixels and minimum height is 49 pixels\n",
        "# via function minimum width is 46 pixels and minimum height is 40 pixels"
      ],
      "execution_count": null,
      "outputs": [
        {
          "output_type": "error",
          "ename": "KeyboardInterrupt",
          "evalue": "ignored",
          "traceback": [
            "\u001b[0;31m---------------------------------------------------------------------------\u001b[0m",
            "\u001b[0;31mKeyboardInterrupt\u001b[0m                         Traceback (most recent call last)",
            "\u001b[0;32m<ipython-input-46-6bcb2e8f310b>\u001b[0m in \u001b[0;36m<module>\u001b[0;34m()\u001b[0m\n\u001b[1;32m      3\u001b[0m \u001b[0;34m\u001b[0m\u001b[0m\n\u001b[1;32m      4\u001b[0m \u001b[0muninf_path\u001b[0m \u001b[0;34m=\u001b[0m \u001b[0;34m\"/content/drive/MyDrive/Bioe279 - Final Project/cell_images/Uninfected/*.png\"\u001b[0m\u001b[0;34m\u001b[0m\u001b[0;34m\u001b[0m\u001b[0m\n\u001b[0;32m----> 5\u001b[0;31m \u001b[0muninf_imgs\u001b[0m \u001b[0;34m=\u001b[0m \u001b[0mlist\u001b[0m\u001b[0;34m(\u001b[0m\u001b[0mglob\u001b[0m\u001b[0;34m.\u001b[0m\u001b[0mglob\u001b[0m\u001b[0;34m(\u001b[0m\u001b[0muninf_path\u001b[0m\u001b[0;34m)\u001b[0m\u001b[0;34m)\u001b[0m\u001b[0;34m\u001b[0m\u001b[0;34m\u001b[0m\u001b[0m\n\u001b[0m\u001b[1;32m      6\u001b[0m \u001b[0;34m\u001b[0m\u001b[0m\n\u001b[1;32m      7\u001b[0m \u001b[0mwid_min\u001b[0m \u001b[0;34m=\u001b[0m \u001b[0;36m1000\u001b[0m\u001b[0;34m\u001b[0m\u001b[0;34m\u001b[0m\u001b[0m\n",
            "\u001b[0;32m/usr/lib/python3.7/glob.py\u001b[0m in \u001b[0;36mglob\u001b[0;34m(pathname, recursive)\u001b[0m\n\u001b[1;32m     18\u001b[0m     \u001b[0mzero\u001b[0m \u001b[0;32mor\u001b[0m \u001b[0mmore\u001b[0m \u001b[0mdirectories\u001b[0m \u001b[0;32mand\u001b[0m \u001b[0msubdirectories\u001b[0m\u001b[0;34m.\u001b[0m\u001b[0;34m\u001b[0m\u001b[0;34m\u001b[0m\u001b[0m\n\u001b[1;32m     19\u001b[0m     \"\"\"\n\u001b[0;32m---> 20\u001b[0;31m     \u001b[0;32mreturn\u001b[0m \u001b[0mlist\u001b[0m\u001b[0;34m(\u001b[0m\u001b[0miglob\u001b[0m\u001b[0;34m(\u001b[0m\u001b[0mpathname\u001b[0m\u001b[0;34m,\u001b[0m \u001b[0mrecursive\u001b[0m\u001b[0;34m=\u001b[0m\u001b[0mrecursive\u001b[0m\u001b[0;34m)\u001b[0m\u001b[0;34m)\u001b[0m\u001b[0;34m\u001b[0m\u001b[0;34m\u001b[0m\u001b[0m\n\u001b[0m\u001b[1;32m     21\u001b[0m \u001b[0;34m\u001b[0m\u001b[0m\n\u001b[1;32m     22\u001b[0m \u001b[0;32mdef\u001b[0m \u001b[0miglob\u001b[0m\u001b[0;34m(\u001b[0m\u001b[0mpathname\u001b[0m\u001b[0;34m,\u001b[0m \u001b[0;34m*\u001b[0m\u001b[0;34m,\u001b[0m \u001b[0mrecursive\u001b[0m\u001b[0;34m=\u001b[0m\u001b[0;32mFalse\u001b[0m\u001b[0;34m)\u001b[0m\u001b[0;34m:\u001b[0m\u001b[0;34m\u001b[0m\u001b[0;34m\u001b[0m\u001b[0m\n",
            "\u001b[0;32m/usr/lib/python3.7/glob.py\u001b[0m in \u001b[0;36m_iglob\u001b[0;34m(pathname, recursive, dironly)\u001b[0m\n\u001b[1;32m     70\u001b[0m         \u001b[0mglob_in_dir\u001b[0m \u001b[0;34m=\u001b[0m \u001b[0m_glob0\u001b[0m\u001b[0;34m\u001b[0m\u001b[0;34m\u001b[0m\u001b[0m\n\u001b[1;32m     71\u001b[0m     \u001b[0;32mfor\u001b[0m \u001b[0mdirname\u001b[0m \u001b[0;32min\u001b[0m \u001b[0mdirs\u001b[0m\u001b[0;34m:\u001b[0m\u001b[0;34m\u001b[0m\u001b[0;34m\u001b[0m\u001b[0m\n\u001b[0;32m---> 72\u001b[0;31m         \u001b[0;32mfor\u001b[0m \u001b[0mname\u001b[0m \u001b[0;32min\u001b[0m \u001b[0mglob_in_dir\u001b[0m\u001b[0;34m(\u001b[0m\u001b[0mdirname\u001b[0m\u001b[0;34m,\u001b[0m \u001b[0mbasename\u001b[0m\u001b[0;34m,\u001b[0m \u001b[0mdironly\u001b[0m\u001b[0;34m)\u001b[0m\u001b[0;34m:\u001b[0m\u001b[0;34m\u001b[0m\u001b[0;34m\u001b[0m\u001b[0m\n\u001b[0m\u001b[1;32m     73\u001b[0m             \u001b[0;32myield\u001b[0m \u001b[0mos\u001b[0m\u001b[0;34m.\u001b[0m\u001b[0mpath\u001b[0m\u001b[0;34m.\u001b[0m\u001b[0mjoin\u001b[0m\u001b[0;34m(\u001b[0m\u001b[0mdirname\u001b[0m\u001b[0;34m,\u001b[0m \u001b[0mname\u001b[0m\u001b[0;34m)\u001b[0m\u001b[0;34m\u001b[0m\u001b[0;34m\u001b[0m\u001b[0m\n\u001b[1;32m     74\u001b[0m \u001b[0;34m\u001b[0m\u001b[0m\n",
            "\u001b[0;32m/usr/lib/python3.7/glob.py\u001b[0m in \u001b[0;36m_glob1\u001b[0;34m(dirname, pattern, dironly)\u001b[0m\n\u001b[1;32m     78\u001b[0m \u001b[0;34m\u001b[0m\u001b[0m\n\u001b[1;32m     79\u001b[0m \u001b[0;32mdef\u001b[0m \u001b[0m_glob1\u001b[0m\u001b[0;34m(\u001b[0m\u001b[0mdirname\u001b[0m\u001b[0;34m,\u001b[0m \u001b[0mpattern\u001b[0m\u001b[0;34m,\u001b[0m \u001b[0mdironly\u001b[0m\u001b[0;34m)\u001b[0m\u001b[0;34m:\u001b[0m\u001b[0;34m\u001b[0m\u001b[0;34m\u001b[0m\u001b[0m\n\u001b[0;32m---> 80\u001b[0;31m     \u001b[0mnames\u001b[0m \u001b[0;34m=\u001b[0m \u001b[0mlist\u001b[0m\u001b[0;34m(\u001b[0m\u001b[0m_iterdir\u001b[0m\u001b[0;34m(\u001b[0m\u001b[0mdirname\u001b[0m\u001b[0;34m,\u001b[0m \u001b[0mdironly\u001b[0m\u001b[0;34m)\u001b[0m\u001b[0;34m)\u001b[0m\u001b[0;34m\u001b[0m\u001b[0;34m\u001b[0m\u001b[0m\n\u001b[0m\u001b[1;32m     81\u001b[0m     \u001b[0;32mif\u001b[0m \u001b[0;32mnot\u001b[0m \u001b[0m_ishidden\u001b[0m\u001b[0;34m(\u001b[0m\u001b[0mpattern\u001b[0m\u001b[0;34m)\u001b[0m\u001b[0;34m:\u001b[0m\u001b[0;34m\u001b[0m\u001b[0;34m\u001b[0m\u001b[0m\n\u001b[1;32m     82\u001b[0m         \u001b[0mnames\u001b[0m \u001b[0;34m=\u001b[0m \u001b[0;34m(\u001b[0m\u001b[0mx\u001b[0m \u001b[0;32mfor\u001b[0m \u001b[0mx\u001b[0m \u001b[0;32min\u001b[0m \u001b[0mnames\u001b[0m \u001b[0;32mif\u001b[0m \u001b[0;32mnot\u001b[0m \u001b[0m_ishidden\u001b[0m\u001b[0;34m(\u001b[0m\u001b[0mx\u001b[0m\u001b[0;34m)\u001b[0m\u001b[0;34m)\u001b[0m\u001b[0;34m\u001b[0m\u001b[0;34m\u001b[0m\u001b[0m\n",
            "\u001b[0;32m/usr/lib/python3.7/glob.py\u001b[0m in \u001b[0;36m_iterdir\u001b[0;34m(dirname, dironly)\u001b[0m\n\u001b[1;32m    119\u001b[0m             \u001b[0mdirname\u001b[0m \u001b[0;34m=\u001b[0m \u001b[0mos\u001b[0m\u001b[0;34m.\u001b[0m\u001b[0mcurdir\u001b[0m\u001b[0;34m\u001b[0m\u001b[0;34m\u001b[0m\u001b[0m\n\u001b[1;32m    120\u001b[0m     \u001b[0;32mtry\u001b[0m\u001b[0;34m:\u001b[0m\u001b[0;34m\u001b[0m\u001b[0;34m\u001b[0m\u001b[0m\n\u001b[0;32m--> 121\u001b[0;31m         \u001b[0;32mwith\u001b[0m \u001b[0mos\u001b[0m\u001b[0;34m.\u001b[0m\u001b[0mscandir\u001b[0m\u001b[0;34m(\u001b[0m\u001b[0mdirname\u001b[0m\u001b[0;34m)\u001b[0m \u001b[0;32mas\u001b[0m \u001b[0mit\u001b[0m\u001b[0;34m:\u001b[0m\u001b[0;34m\u001b[0m\u001b[0;34m\u001b[0m\u001b[0m\n\u001b[0m\u001b[1;32m    122\u001b[0m             \u001b[0;32mfor\u001b[0m \u001b[0mentry\u001b[0m \u001b[0;32min\u001b[0m \u001b[0mit\u001b[0m\u001b[0;34m:\u001b[0m\u001b[0;34m\u001b[0m\u001b[0;34m\u001b[0m\u001b[0m\n\u001b[1;32m    123\u001b[0m                 \u001b[0;32mtry\u001b[0m\u001b[0;34m:\u001b[0m\u001b[0;34m\u001b[0m\u001b[0;34m\u001b[0m\u001b[0m\n",
            "\u001b[0;31mKeyboardInterrupt\u001b[0m: "
          ]
        }
      ]
    },
    {
      "cell_type": "markdown",
      "metadata": {
        "id": "4Erk0rgbBetK"
      },
      "source": [
        "Set up the training and validation data from the given data in our main directory. This was accessed from our google drive."
      ]
    },
    {
      "cell_type": "code",
      "metadata": {
        "id": "LXRSCrwSxXBo",
        "colab": {
          "base_uri": "https://localhost:8080/"
        },
        "outputId": "da1a9d09-e551-4d2c-c59e-adc57496e955"
      },
      "source": [
        "# Save the path to the data as a string. This was location of our images \n",
        "# please change accordingly to correct location\n",
        "main_directory = '/content/drive/MyDrive/Bioe279 - Final Project/cell_images'\n",
        "\n",
        "# Set up the traing data set using 80% of the given images. Input the given\n",
        "# minimum image size calculated from the function above. We wanted to use a square\n",
        "# image in order to optimize the program so compress the images into 40x40 shape.\n",
        "\n",
        "train = tf.keras.utils.image_dataset_from_directory(main_directory, \n",
        "                                                    labels='inferred',\n",
        "                                                    validation_split=0.2,\n",
        "                                                    subset=\"training\",\n",
        "                                                    image_size=(40, 40),\n",
        "                                                    seed=123)\n",
        "\n",
        "# Set up the validation training data set using 20% of the given images. Same\n",
        "# parameters as above\n",
        "\n",
        "validation = tf.keras.utils.image_dataset_from_directory(main_directory, \n",
        "                                                        labels='inferred',\n",
        "                                                        validation_split=0.2,\n",
        "                                                        subset=\"validation\",\n",
        "                                                        image_size=(40, 40),\n",
        "                                                        seed=123)"
      ],
      "execution_count": null,
      "outputs": [
        {
          "output_type": "stream",
          "name": "stdout",
          "text": [
            "Found 27872 files belonging to 2 classes.\n",
            "Using 22298 files for training.\n",
            "Found 27872 files belonging to 2 classes.\n",
            "Using 5574 files for validation.\n"
          ]
        }
      ]
    },
    {
      "cell_type": "markdown",
      "metadata": {
        "id": "Va-MR8MPqLQh"
      },
      "source": [
        "We use autotune to help improve the prefetching process and to help optimize the runtime of our program. This dynamically tunes the values while the program runs helping performance of the model. This also helps prevent bottlenecking of data."
      ]
    },
    {
      "cell_type": "code",
      "metadata": {
        "id": "6-rojyPF96sI"
      },
      "source": [
        "AUTOTUNE = tf.data.AUTOTUNE\n",
        "\n",
        "train = train.cache().shuffle(1000).prefetch(buffer_size=AUTOTUNE)\n",
        "validation = validation.cache().prefetch(buffer_size=AUTOTUNE)\n",
        "\n",
        "normalization_layer = tf.keras.layers.Rescaling(1./255)"
      ],
      "execution_count": null,
      "outputs": []
    },
    {
      "cell_type": "markdown",
      "metadata": {
        "id": "5v_4PD6Tr2bN"
      },
      "source": [
        "Now we are ready to build the model. We use various functions to help optimize the learning process and insure that all the data inserted into the model are the same shape as well as rbg values normalize to a float between 0 and 1. We used a sequential model that many different image classification programs used."
      ]
    },
    {
      "cell_type": "code",
      "metadata": {
        "id": "Fl9XzcdeE9Qp"
      },
      "source": [
        "# Establish that there are two classes we want to identify between\n",
        "num_classes = 2\n",
        "\n",
        "model = tf.keras.Sequential([\n",
        "  # Rescale the rbg values and ensure that the images inserted are the correct dimensions\n",
        "  tf.keras.layers.Rescaling(1./255, input_shape=(40,40,3)),\n",
        "  \n",
        "  # Apply a random flip either along the horizontal or vertical axis to prevent overfitting\n",
        "  tf.keras.layers.RandomFlip('horizontal_and_vertical', seed=123),\n",
        "  \n",
        "  # Apply 2D convultion layer\n",
        "  tf.keras.layers.Conv2D(16, 3, padding='same', activation='selu'),\n",
        "  \n",
        "  # Apply max pooling layer\n",
        "  tf.keras.layers.MaxPooling2D(),\n",
        "  \n",
        "  # Apply 2D convultion layer\n",
        "  tf.keras.layers.Conv2D(32, 3, padding='same', activation='selu'),\n",
        "  \n",
        "  # Apply max pooling layer\n",
        "  tf.keras.layers.MaxPooling2D(),\n",
        "  \n",
        "  # Apply 2D convultion layer\n",
        "  tf.keras.layers.Conv2D(64, 3, padding='same', activation='selu'),\n",
        "  \n",
        "  # Apply max pooling layer\n",
        "  tf.keras.layers.MaxPooling2D(),\n",
        "  \n",
        "  # Flattens the input\n",
        "  tf.keras.layers.Flatten(),\n",
        "  \n",
        "  # Apply dense neural network layer over batch\n",
        "  tf.keras.layers.Dense(128, activation='selu'),\n",
        "  \n",
        "  # Apply a random dopout of a data point to prevent overfitting\n",
        "  tf.keras.layers.Dropout(0.1),\n",
        "\n",
        "  # Apply dense neural network layer over classes\n",
        "  tf.keras.layers.Dense(num_classes)\n",
        "])\n",
        "\n",
        "model.compile(\n",
        "  # Use the adam algorithm for optimization\n",
        "  optimizer= 'adam' ,\n",
        "  \n",
        "  # Computes the cross-entropy loss from the given data\n",
        "  loss=tf.losses.SparseCategoricalCrossentropy(from_logits=True),\n",
        "  \n",
        "  # Saves accuracy data from the model\n",
        "  metrics=['accuracy'])"
      ],
      "execution_count": null,
      "outputs": []
    },
    {
      "cell_type": "markdown",
      "metadata": {
        "id": "0X_Qx4l4xIm-"
      },
      "source": [
        "View the summary of our model and check to make sure there are no errors in the compilation."
      ]
    },
    {
      "cell_type": "code",
      "metadata": {
        "colab": {
          "base_uri": "https://localhost:8080/"
        },
        "id": "Sa6l-9JLLvqe",
        "outputId": "f88e4a0d-0e94-4063-b33d-e2f31c35362b"
      },
      "source": [
        "model.summary()"
      ],
      "execution_count": null,
      "outputs": [
        {
          "output_type": "stream",
          "name": "stdout",
          "text": [
            "Model: \"sequential_2\"\n",
            "_________________________________________________________________\n",
            " Layer (type)                Output Shape              Param #   \n",
            "=================================================================\n",
            " rescaling_10 (Rescaling)    (None, 40, 40, 3)         0         \n",
            "                                                                 \n",
            " random_flip_5 (RandomFlip)  (None, 40, 40, 3)         0         \n",
            "                                                                 \n",
            " conv2d_6 (Conv2D)           (None, 40, 40, 16)        448       \n",
            "                                                                 \n",
            " max_pooling2d_6 (MaxPooling  (None, 20, 20, 16)       0         \n",
            " 2D)                                                             \n",
            "                                                                 \n",
            " conv2d_7 (Conv2D)           (None, 20, 20, 32)        4640      \n",
            "                                                                 \n",
            " max_pooling2d_7 (MaxPooling  (None, 10, 10, 32)       0         \n",
            " 2D)                                                             \n",
            "                                                                 \n",
            " conv2d_8 (Conv2D)           (None, 10, 10, 64)        18496     \n",
            "                                                                 \n",
            " max_pooling2d_8 (MaxPooling  (None, 5, 5, 64)         0         \n",
            " 2D)                                                             \n",
            "                                                                 \n",
            " flatten_2 (Flatten)         (None, 1600)              0         \n",
            "                                                                 \n",
            " dense_4 (Dense)             (None, 128)               204928    \n",
            "                                                                 \n",
            " dropout_2 (Dropout)         (None, 128)               0         \n",
            "                                                                 \n",
            " dense_5 (Dense)             (None, 2)                 258       \n",
            "                                                                 \n",
            "=================================================================\n",
            "Total params: 228,770\n",
            "Trainable params: 228,770\n",
            "Non-trainable params: 0\n",
            "_________________________________________________________________\n"
          ]
        }
      ]
    },
    {
      "cell_type": "markdown",
      "metadata": {
        "id": "YEw2g_coxSRC"
      },
      "source": [
        "Now we fit the image classification model to our data. We found via continues experimentation that 30 epochs produced an optimal model. We use the train and validation data that we save before hand."
      ]
    },
    {
      "cell_type": "code",
      "metadata": {
        "colab": {
          "base_uri": "https://localhost:8080/"
        },
        "id": "L_YVODXzL2-X",
        "outputId": "b28acb57-55a7-411e-fa17-7f1723bbb502"
      },
      "source": [
        "epochs = 20\n",
        "history = model.fit(\n",
        "    train,\n",
        "    validation_data=validation,\n",
        "    epochs=epochs\n",
        ")"
      ],
      "execution_count": null,
      "outputs": [
        {
          "output_type": "stream",
          "name": "stdout",
          "text": [
            "Epoch 1/30\n",
            "697/697 [==============================] - 53s 76ms/step - loss: 0.1039 - accuracy: 0.9631 - val_loss: 0.1284 - val_accuracy: 0.9530\n",
            "Epoch 2/30\n",
            "697/697 [==============================] - 53s 76ms/step - loss: 0.1033 - accuracy: 0.9650 - val_loss: 0.1228 - val_accuracy: 0.9546\n",
            "Epoch 3/30\n",
            "697/697 [==============================] - 53s 76ms/step - loss: 0.0998 - accuracy: 0.9656 - val_loss: 0.1183 - val_accuracy: 0.9577\n",
            "Epoch 4/30\n",
            "697/697 [==============================] - 53s 75ms/step - loss: 0.0999 - accuracy: 0.9651 - val_loss: 0.1219 - val_accuracy: 0.9553\n",
            "Epoch 5/30\n",
            "697/697 [==============================] - 53s 75ms/step - loss: 0.0977 - accuracy: 0.9659 - val_loss: 0.1188 - val_accuracy: 0.9584\n",
            "Epoch 6/30\n",
            "697/697 [==============================] - 52s 75ms/step - loss: 0.0934 - accuracy: 0.9660 - val_loss: 0.1159 - val_accuracy: 0.9607\n",
            "Epoch 7/30\n",
            "697/697 [==============================] - 53s 76ms/step - loss: 0.0947 - accuracy: 0.9669 - val_loss: 0.1361 - val_accuracy: 0.9532\n",
            "Epoch 8/30\n",
            "697/697 [==============================] - 53s 76ms/step - loss: 0.0912 - accuracy: 0.9678 - val_loss: 0.1447 - val_accuracy: 0.9587\n",
            "Epoch 9/30\n",
            "697/697 [==============================] - 53s 77ms/step - loss: 0.0902 - accuracy: 0.9685 - val_loss: 0.1326 - val_accuracy: 0.9573\n",
            "Epoch 10/30\n",
            "697/697 [==============================] - 53s 77ms/step - loss: 0.0915 - accuracy: 0.9676 - val_loss: 0.1198 - val_accuracy: 0.9578\n",
            "Epoch 11/30\n",
            "697/697 [==============================] - 53s 76ms/step - loss: 0.0852 - accuracy: 0.9704 - val_loss: 0.1222 - val_accuracy: 0.9557\n",
            "Epoch 12/30\n",
            "697/697 [==============================] - 54s 77ms/step - loss: 0.0838 - accuracy: 0.9710 - val_loss: 0.1365 - val_accuracy: 0.9569\n",
            "Epoch 13/30\n",
            "697/697 [==============================] - 54s 77ms/step - loss: 0.0813 - accuracy: 0.9711 - val_loss: 0.1281 - val_accuracy: 0.9584\n",
            "Epoch 14/30\n",
            "697/697 [==============================] - 53s 76ms/step - loss: 0.0819 - accuracy: 0.9716 - val_loss: 0.1290 - val_accuracy: 0.9546\n",
            "Epoch 15/30\n",
            "697/697 [==============================] - 53s 77ms/step - loss: 0.0778 - accuracy: 0.9717 - val_loss: 0.1413 - val_accuracy: 0.9551\n",
            "Epoch 16/30\n",
            "697/697 [==============================] - 53s 77ms/step - loss: 0.0785 - accuracy: 0.9722 - val_loss: 0.1327 - val_accuracy: 0.9569\n",
            "Epoch 17/30\n",
            "697/697 [==============================] - 54s 77ms/step - loss: 0.0755 - accuracy: 0.9735 - val_loss: 0.1296 - val_accuracy: 0.9584\n",
            "Epoch 18/30\n",
            "697/697 [==============================] - 54s 78ms/step - loss: 0.0741 - accuracy: 0.9741 - val_loss: 0.1575 - val_accuracy: 0.9482\n",
            "Epoch 19/30\n",
            "697/697 [==============================] - 53s 76ms/step - loss: 0.0721 - accuracy: 0.9741 - val_loss: 0.1341 - val_accuracy: 0.9575\n",
            "Epoch 20/30\n",
            "697/697 [==============================] - 53s 76ms/step - loss: 0.0770 - accuracy: 0.9729 - val_loss: 0.1565 - val_accuracy: 0.9557\n",
            "Epoch 21/30\n",
            "697/697 [==============================] - 53s 76ms/step - loss: 0.0724 - accuracy: 0.9743 - val_loss: 0.1381 - val_accuracy: 0.9548\n",
            "Epoch 22/30\n",
            "697/697 [==============================] - 53s 76ms/step - loss: 0.0687 - accuracy: 0.9757 - val_loss: 0.1328 - val_accuracy: 0.9580\n",
            "Epoch 23/30\n",
            "697/697 [==============================] - 53s 76ms/step - loss: 0.0657 - accuracy: 0.9761 - val_loss: 0.1450 - val_accuracy: 0.9582\n",
            "Epoch 24/30\n",
            "697/697 [==============================] - 53s 76ms/step - loss: 0.0662 - accuracy: 0.9767 - val_loss: 0.1479 - val_accuracy: 0.9607\n",
            "Epoch 25/30\n",
            "697/697 [==============================] - 53s 76ms/step - loss: 0.0628 - accuracy: 0.9772 - val_loss: 0.1549 - val_accuracy: 0.9587\n",
            "Epoch 26/30\n",
            "697/697 [==============================] - 53s 77ms/step - loss: 0.0640 - accuracy: 0.9776 - val_loss: 0.1413 - val_accuracy: 0.9580\n",
            "Epoch 27/30\n",
            "697/697 [==============================] - 53s 76ms/step - loss: 0.0573 - accuracy: 0.9786 - val_loss: 0.1568 - val_accuracy: 0.9543\n",
            "Epoch 28/30\n",
            "697/697 [==============================] - 53s 76ms/step - loss: 0.0628 - accuracy: 0.9781 - val_loss: 0.1551 - val_accuracy: 0.9566\n",
            "Epoch 29/30\n",
            "697/697 [==============================] - 54s 77ms/step - loss: 0.0587 - accuracy: 0.9793 - val_loss: 0.1836 - val_accuracy: 0.9458\n",
            "Epoch 30/30\n",
            "697/697 [==============================] - 54s 77ms/step - loss: 0.0589 - accuracy: 0.9793 - val_loss: 0.1479 - val_accuracy: 0.9525\n"
          ]
        }
      ]
    },
    {
      "cell_type": "markdown",
      "metadata": {
        "id": "NdA5Bl4_xw03"
      },
      "source": [
        "Save the model in order to access it in the future rather than rerunning the program. There were a couple of issues with saving due to the aspect of randomness in our random flip layer. This prevents the exact model from being saved but given the same seed will produce the same result."
      ]
    },
    {
      "cell_type": "code",
      "metadata": {
        "colab": {
          "base_uri": "https://localhost:8080/",
          "height": 392
        },
        "id": "vKyhi_kMZOL1",
        "outputId": "10aed82f-f99d-4772-fb72-94fede0a659e"
      },
      "source": [
        "model.save('/content/drive/MyDrive/Bioe279 - Final Project')"
      ],
      "execution_count": null,
      "outputs": [
        {
          "output_type": "error",
          "ename": "KeyError",
          "evalue": "ignored",
          "traceback": [
            "\u001b[0;31m---------------------------------------------------------------------------\u001b[0m",
            "\u001b[0;31mKeyError\u001b[0m                                  Traceback (most recent call last)",
            "\u001b[0;32m<ipython-input-20-9feae95ea1c4>\u001b[0m in \u001b[0;36m<module>\u001b[0;34m()\u001b[0m\n\u001b[0;32m----> 1\u001b[0;31m \u001b[0mmodel\u001b[0m\u001b[0;34m.\u001b[0m\u001b[0msave\u001b[0m\u001b[0;34m(\u001b[0m\u001b[0;34m'/content/drive/MyDrive/Bioe279 - Final Project'\u001b[0m\u001b[0;34m)\u001b[0m\u001b[0;34m\u001b[0m\u001b[0;34m\u001b[0m\u001b[0m\n\u001b[0m",
            "\u001b[0;32m/usr/local/lib/python3.7/dist-packages/keras/utils/traceback_utils.py\u001b[0m in \u001b[0;36merror_handler\u001b[0;34m(*args, **kwargs)\u001b[0m\n\u001b[1;32m     65\u001b[0m     \u001b[0;32mexcept\u001b[0m \u001b[0mException\u001b[0m \u001b[0;32mas\u001b[0m \u001b[0me\u001b[0m\u001b[0;34m:\u001b[0m  \u001b[0;31m# pylint: disable=broad-except\u001b[0m\u001b[0;34m\u001b[0m\u001b[0;34m\u001b[0m\u001b[0m\n\u001b[1;32m     66\u001b[0m       \u001b[0mfiltered_tb\u001b[0m \u001b[0;34m=\u001b[0m \u001b[0m_process_traceback_frames\u001b[0m\u001b[0;34m(\u001b[0m\u001b[0me\u001b[0m\u001b[0;34m.\u001b[0m\u001b[0m__traceback__\u001b[0m\u001b[0;34m)\u001b[0m\u001b[0;34m\u001b[0m\u001b[0;34m\u001b[0m\u001b[0m\n\u001b[0;32m---> 67\u001b[0;31m       \u001b[0;32mraise\u001b[0m \u001b[0me\u001b[0m\u001b[0;34m.\u001b[0m\u001b[0mwith_traceback\u001b[0m\u001b[0;34m(\u001b[0m\u001b[0mfiltered_tb\u001b[0m\u001b[0;34m)\u001b[0m \u001b[0;32mfrom\u001b[0m \u001b[0;32mNone\u001b[0m\u001b[0;34m\u001b[0m\u001b[0;34m\u001b[0m\u001b[0m\n\u001b[0m\u001b[1;32m     68\u001b[0m     \u001b[0;32mfinally\u001b[0m\u001b[0;34m:\u001b[0m\u001b[0;34m\u001b[0m\u001b[0;34m\u001b[0m\u001b[0m\n\u001b[1;32m     69\u001b[0m       \u001b[0;32mdel\u001b[0m \u001b[0mfiltered_tb\u001b[0m\u001b[0;34m\u001b[0m\u001b[0;34m\u001b[0m\u001b[0m\n",
            "\u001b[0;32m/usr/local/lib/python3.7/dist-packages/tensorflow/python/saved_model/function_serialization.py\u001b[0m in \u001b[0;36mserialize_concrete_function\u001b[0;34m(concrete_function, node_ids, coder)\u001b[0m\n\u001b[1;32m     66\u001b[0m   \u001b[0;32mexcept\u001b[0m \u001b[0mKeyError\u001b[0m\u001b[0;34m:\u001b[0m\u001b[0;34m\u001b[0m\u001b[0;34m\u001b[0m\u001b[0m\n\u001b[1;32m     67\u001b[0m     raise KeyError(\n\u001b[0;32m---> 68\u001b[0;31m         \u001b[0;34mf\"Failed to add concrete function '{concrete_function.name}' to object-\"\u001b[0m\u001b[0;34m\u001b[0m\u001b[0;34m\u001b[0m\u001b[0m\n\u001b[0m\u001b[1;32m     69\u001b[0m         \u001b[0;34mf\"based SavedModel as it captures tensor {capture!r} which is unsupported\"\u001b[0m\u001b[0;34m\u001b[0m\u001b[0;34m\u001b[0m\u001b[0m\n\u001b[1;32m     70\u001b[0m         \u001b[0;34m\" or not reachable from root. \"\u001b[0m\u001b[0;34m\u001b[0m\u001b[0;34m\u001b[0m\u001b[0m\n",
            "\u001b[0;31mKeyError\u001b[0m: \"Failed to add concrete function 'b'__inference_sequential_1_layer_call_fn_74728'' to object-based SavedModel as it captures tensor <tf.Tensor: shape=(), dtype=resource, value=<Resource Tensor>> which is unsupported or not reachable from root. One reason could be that a stateful object or a variable that the function depends on is not assigned to an attribute of the serialized trackable object (see SaveTest.test_captures_unreachable_variable).\""
          ]
        }
      ]
    },
    {
      "cell_type": "markdown",
      "metadata": {
        "id": "FZbovVjByOwU"
      },
      "source": [
        "If we want to load a model that we saved, we run this code in order to reintroduce it into the program."
      ]
    },
    {
      "cell_type": "code",
      "metadata": {
        "id": "hJgOCz9ujPWV"
      },
      "source": [
        "path_load = '/content/drive/MyDrive/Bioe279 - Final Project/BioE279_final_project.pk1'\n",
        "# load the model from disk\n",
        "loaded_model = pickle.load(open(path_load, 'rb'))"
      ],
      "execution_count": null,
      "outputs": []
    },
    {
      "cell_type": "markdown",
      "metadata": {
        "id": "24eO99ueygKx"
      },
      "source": [
        "Now we analyze the accuracy and loss of the model that we just fit. This code plots these metrics for each epoch. From these graphs we edited the model in order to optimize accuracy while minimizing loss."
      ]
    },
    {
      "cell_type": "code",
      "metadata": {
        "colab": {
          "base_uri": "https://localhost:8080/",
          "height": 499
        },
        "id": "UfG0TKknYNkF",
        "outputId": "6c5790fa-9d77-455e-ff2b-12e44dbcb55c"
      },
      "source": [
        "a = history.history['accuracy']\n",
        "va = history.history['val_accuracy']\n",
        "\n",
        "l = history.history['loss']\n",
        "vl = history.history['val_loss']\n",
        "\n",
        "e = range(epochs)\n",
        "\n",
        "plt.figure(figsize=(8, 8))\n",
        "plt.subplot(1, 2, 1)\n",
        "plt.plot(e, a, label='Training Accuracy')\n",
        "plt.plot(e, va, label='Validation Accuracy')\n",
        "plt.legend(loc='lower right')\n",
        "plt.title('Training and Validation Accuracy')\n",
        "\n",
        "plt.subplot(1, 2, 2)\n",
        "plt.plot(e, l, label='Training Loss')\n",
        "plt.plot(e, vl, label='Validation Loss')\n",
        "plt.legend(loc='upper right')\n",
        "plt.title('Training and Validation Loss')\n",
        "plt.show()"
      ],
      "execution_count": null,
      "outputs": [
        {
          "output_type": "display_data",
          "data": {
            "image/png": "[encoded data removed]",
            "text/plain": [
              "<Figure size 576x576 with 2 Axes>"
            ]
          },
          "metadata": {
            "needs_background": "light"
          }
        }
      ]
    }
  ]
}